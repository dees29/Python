{
 "cells": [
  {
   "cell_type": "markdown",
   "metadata": {
    "collapsed": true
   },
   "source": [
    "# Introduction:\n",
    "\n",
    "IPython is a command shell for interactive computing in multiple programming languages, originally developed for the Python programming language, that offers introspection, rich media, shell syntax, tab completion, and history. IPython provides the following features:\n",
    "\n",
    "\n",
    "1. Interactive shells (terminal and Qt-based(Crossplatform)).\n",
    "2. A browser-based notebook with support for code, text, mathematical expressions, inline plots and other media.\n",
    "3. Support for interactive data visualization and use of GUI toolkits.\n",
    "4. Flexible, embeddable interpreters to load into one's own projects.\n",
    "5. Tools for parallel computing.\n",
    "\n",
    "\n",
    "How to Start?\n",
    "1. Create an IPython notebook, choose File -> New -> IPython notebook. \n",
    "2. Create a new cell(to write text or code), Hit Alt+Enter to create a new cell. \n",
    "3. To run, Hit Shift+Enter \n",
    "4. Convert cell to text, ESC + m OR select mark down from top\n",
    "5. Delete cell, ESC + D\n"
   ]
  },
  {
   "cell_type": "code",
   "execution_count": 1,
   "metadata": {
    "collapsed": false
   },
   "outputs": [
    {
     "name": "stdout",
     "output_type": "stream",
     "text": [
      "Hello World!\n"
     ]
    }
   ],
   "source": [
    "print(\"Hello World!\")"
   ]
  },
  {
   "cell_type": "code",
   "execution_count": 2,
   "metadata": {
    "collapsed": true
   },
   "outputs": [],
   "source": [
    "# No need to define a data type. Auto interprested\n",
    "workingdirectory=('C:\\\\Users\\Vinit\\Desktop\\Harish\\Classes\\7 April Batch\\A4 Day 3 - 14 April python\\\\')"
   ]
  },
  {
   "cell_type": "code",
   "execution_count": 3,
   "metadata": {
    "collapsed": false
   },
   "outputs": [
    {
     "name": "stdout",
     "output_type": "stream",
     "text": [
      "C:\\Users\\Vinit\\Desktop\\Harish\\Classes\u0007 April Batch\\A4 Day 3 - 14 April python\\\n"
     ]
    }
   ],
   "source": [
    "print(workingdirectory);"
   ]
  },
  {
   "cell_type": "code",
   "execution_count": 4,
   "metadata": {
    "collapsed": false
   },
   "outputs": [
    {
     "name": "stdout",
     "output_type": "stream",
     "text": [
      "Multiply Operation is as below\n"
     ]
    },
    {
     "data": {
      "text/plain": [
       "12489"
      ]
     },
     "execution_count": 4,
     "metadata": {},
     "output_type": "execute_result"
    }
   ],
   "source": [
    "print (\"Multiply Operation is as below\")\n",
    "23*543"
   ]
  },
  {
   "cell_type": "markdown",
   "metadata": {},
   "source": [
    "To see history of commands, %history\n",
    "Used to extract code from IPython notebook to a separate file. "
   ]
  },
  {
   "cell_type": "code",
   "execution_count": 5,
   "metadata": {
    "collapsed": false
   },
   "outputs": [
    {
     "name": "stdout",
     "output_type": "stream",
     "text": [
      "print(\"Hello World!\")\n",
      "# No need to define a data type. Auto interprested\n",
      "workingdirectory=('C:\\\\Users\\Vinit\\Desktop\\Harish\\Classes\\7 April Batch\\A4 Day 3 - 14 April python\\\\')\n",
      "print(workingdirectory);\n",
      "print (\"Multiply Operation is as below\")\n",
      "23*543\n",
      "%history\n"
     ]
    }
   ],
   "source": [
    "%history"
   ]
  },
  {
   "cell_type": "markdown",
   "metadata": {},
   "source": [
    "To get more details on command/ function, use ? at the end"
   ]
  },
  {
   "cell_type": "code",
   "execution_count": 6,
   "metadata": {
    "collapsed": true
   },
   "outputs": [],
   "source": [
    "print?"
   ]
  },
  {
   "cell_type": "markdown",
   "metadata": {},
   "source": [
    "NumPy (pronounced /ˈnʌmpaɪ/ (NUM-py) or sometimes /ˈnʌmpi/ (NUM-pee)) is a library for the Python programming language, adding support for large, multi-dimensional arrays and matrices, along with a large collection of high-level mathematical functions to operate on these arrays."
   ]
  },
  {
   "cell_type": "code",
   "execution_count": 7,
   "metadata": {
    "collapsed": true
   },
   "outputs": [],
   "source": [
    "import numpy as np\n",
    "np.mean?"
   ]
  },
  {
   "cell_type": "markdown",
   "metadata": {},
   "source": [
    "To see all functions and commands that are associated with a package (such as NumPy), use TAB button. "
   ]
  },
  {
   "cell_type": "code",
   "execution_count": 8,
   "metadata": {
    "collapsed": false
   },
   "outputs": [
    {
     "data": {
      "text/plain": [
       "7"
      ]
     },
     "execution_count": 8,
     "metadata": {},
     "output_type": "execute_result"
    }
   ],
   "source": [
    "np.add(2 , 5)"
   ]
  },
  {
   "cell_type": "markdown",
   "metadata": {},
   "source": [
    "**Syntax in python**\n",
    "\n",
    "1. Case Sensitive language\n",
    "2. whitespace (space bar/blank) used for intendation \n",
    "3. ; at end of statement not required \n",
    "4. IF , ELSE, use whitespace\n",
    "\n",
    "if a > b\n",
    "   print(\"a is big\")\n",
    "else\n",
    "   print(\"b is big\")\n",
    "\n",
    "\n",
    "\n",
    "\n",
    "There should not be unnecessary spaces.\n",
    "'#' Denotes comments\n",
    "'''  commented lines  ''' is used for multi line comments"
   ]
  },
  {
   "cell_type": "code",
   "execution_count": 10,
   "metadata": {
    "collapsed": false
   },
   "outputs": [
    {
     "name": "stdout",
     "output_type": "stream",
     "text": [
      "Age is  7\n"
     ]
    }
   ],
   "source": [
    "age = 7\n",
    "print ('Age is ', age)   #Remove space and try again\n"
   ]
  },
  {
   "cell_type": "code",
   "execution_count": 11,
   "metadata": {
    "collapsed": false
   },
   "outputs": [
    {
     "name": "stdout",
     "output_type": "stream",
     "text": [
      "Out of comment\n"
     ]
    }
   ],
   "source": [
    "# single line comment\n",
    "# print(\"This line will not be printed, This line is in a single line comment\")\n",
    "''' block comment 3 single quotes\n",
    "print(\"Block comment line\")\n",
    "print (\"Block comment line\")\n",
    "'''\n",
    "print(\"Out of comment\")"
   ]
  },
  {
   "cell_type": "markdown",
   "metadata": {},
   "source": [
    "Example of indentation for IF statement"
   ]
  },
  {
   "cell_type": "code",
   "execution_count": 12,
   "metadata": {
    "collapsed": false
   },
   "outputs": [
    {
     "name": "stdout",
     "output_type": "stream",
     "text": [
      "11\n"
     ]
    }
   ],
   "source": [
    "x = 11\n",
    "y = 5\n",
    "print (x)\n",
    "\n",
    "if x<10:      # x = 11\n",
    "    print(x)\n",
    "    print(y)"
   ]
  },
  {
   "cell_type": "code",
   "execution_count": 13,
   "metadata": {
    "collapsed": false
   },
   "outputs": [
    {
     "name": "stdout",
     "output_type": "stream",
     "text": [
      "11\n",
      "5\n"
     ]
    }
   ],
   "source": [
    "x = 11\n",
    "y = 5\n",
    "print (x)\n",
    "if x<10:\n",
    "    print(x)\n",
    "print(y)"
   ]
  },
  {
   "cell_type": "markdown",
   "metadata": {},
   "source": [
    "**Variables and Data Structures**\n",
    "\n",
    "Built in data types: int, float, string, boolean value, date, time\n",
    "\n",
    "data structurs: Tuple (immutable - can not change value) , List (mutable - change the value), Dictionary (Key Value pair. 1 key, can be multiple values)\n"
   ]
  },
  {
   "cell_type": "code",
   "execution_count": 14,
   "metadata": {
    "collapsed": false
   },
   "outputs": [
    {
     "name": "stdout",
     "output_type": "stream",
     "text": [
      "Amitabh\n",
      "26\n",
      "70.4\n"
     ]
    }
   ],
   "source": [
    "# Auto assigns type\n",
    "\n",
    "name    = \"Amitabh\"       # A string\n",
    "age     = 26              # An integer assignment\n",
    "weight  = 70.4            # A floating point\n",
    "\n",
    "print (name)\n",
    "print (age)\n",
    "print (weight)\n",
    "\n"
   ]
  },
  {
   "cell_type": "code",
   "execution_count": 15,
   "metadata": {
    "collapsed": false
   },
   "outputs": [
    {
     "name": "stdout",
     "output_type": "stream",
     "text": [
      "19.5\n",
      "52\n"
     ]
    }
   ],
   "source": [
    "# Difference between numeric addition and string concatination\n",
    "\n",
    "a = 12                   # Since no decimal point, it will auto assume as integer\n",
    "b = 7.5                  # since decimal point, it will auto assume as float\n",
    "c = \"5\"                 # String, since inverted commas\n",
    "d = \"2\"                 # String, since inverted commas\n",
    "print(b + a)  # Sum of values = 7.5 + 12 = 19.5\n",
    "print(c  + d) # Concatenating Strings = \"5\" + \"2\" = \"52\""
   ]
  },
  {
   "cell_type": "markdown",
   "metadata": {},
   "source": [
    "**String**\n",
    "\n"
   ]
  },
  {
   "cell_type": "code",
   "execution_count": 16,
   "metadata": {
    "collapsed": false
   },
   "outputs": [
    {
     "name": "stdout",
     "output_type": "stream",
     "text": [
      "Hello World\n",
      "H\n",
      "lo \n",
      "World\n",
      "Hello WorldHello World\n",
      "Hello World!!!\n"
     ]
    }
   ],
   "source": [
    "strr = 'Hello World'       # 0-H 1-e 2-l 3-l 4-o 5-' ' 6-W 7-o 8-r 9-l 10-d\n",
    "print (strr)            # prints complete string\n",
    "print (strr[0])         # prints first character of string   ... It will print H  \n",
    "print (strr[3:6])       # prints characters starting from 4th to 6th. Exclude last element. 'W' is excluded.   ...3--l 4-o 5-' ' \n",
    "print (strr[6:])        # prints string starting from 7th character.... 6-W 7-o 8-r 9-l 10-d\n",
    "print (strr*2)          # prints string two times... Hello WorldHello World\n",
    "print (strr + \"!!!\")    # prints concatenated string... Hello World!!!"
   ]
  },
  {
   "cell_type": "code",
   "execution_count": 17,
   "metadata": {
    "collapsed": false
   },
   "outputs": [
    {
     "name": "stdout",
     "output_type": "stream",
     "text": [
      "o\n"
     ]
    }
   ],
   "source": [
    "strr =\"hello\"\n",
    "print(strr[-1]) # Print last character    \n",
    "\n",
    "\n",
    "\n"
   ]
  },
  {
   "cell_type": "code",
   "execution_count": 18,
   "metadata": {
    "collapsed": false
   },
   "outputs": [
    {
     "name": "stdout",
     "output_type": "stream",
     "text": [
      "Hello World\n",
      "Hello India\n"
     ]
    }
   ],
   "source": [
    "a = 'Hello World'\n",
    "b = a.replace('World','India')    # a = Hello World --> b = Hello India\n",
    "print (a) \n",
    "print (b)"
   ]
  },
  {
   "cell_type": "code",
   "execution_count": 19,
   "metadata": {
    "collapsed": false
   },
   "outputs": [
    {
     "name": "stdout",
     "output_type": "stream",
     "text": [
      "20\n"
     ]
    }
   ],
   "source": [
    "a = '10'              # String because 10 is in inverted commas\n",
    "anum = int(a)         # Typecaste/Convert String '10' to Integer - Possible... anum = 10 (integer)\n",
    "print (anum + anum)  # 10 + 10 = 20"
   ]
  },
  {
   "cell_type": "code",
   "execution_count": 20,
   "metadata": {
    "collapsed": false
   },
   "outputs": [
    {
     "name": "stdout",
     "output_type": "stream",
     "text": [
      "1010\n"
     ]
    }
   ],
   "source": [
    "achar = str(anum)     # Typecaste/Convert int '10' to string - Possible.   10 will become string '10'\n",
    "print (achar + achar) # Since achar is a string, + will do concatenation . '10'+'10' = '1010'"
   ]
  },
  {
   "cell_type": "code",
   "execution_count": 21,
   "metadata": {
    "collapsed": false
   },
   "outputs": [
    {
     "ename": "ValueError",
     "evalue": "invalid literal for int() with base 10: 'hi'",
     "output_type": "error",
     "traceback": [
      "\u001b[0;31m---------------------------------------------------------------------------\u001b[0m",
      "\u001b[0;31mValueError\u001b[0m                                Traceback (most recent call last)",
      "\u001b[0;32m<ipython-input-21-f03488690ff9>\u001b[0m in \u001b[0;36m<module>\u001b[0;34m()\u001b[0m\n\u001b[1;32m      1\u001b[0m \u001b[0ma\u001b[0m \u001b[1;33m=\u001b[0m \u001b[1;34m\"hi\"\u001b[0m               \u001b[1;31m# String\u001b[0m\u001b[1;33m\u001b[0m\u001b[0m\n\u001b[0;32m----> 2\u001b[0;31m \u001b[0manum\u001b[0m \u001b[1;33m=\u001b[0m \u001b[0mint\u001b[0m\u001b[1;33m(\u001b[0m\u001b[0ma\u001b[0m\u001b[1;33m)\u001b[0m         \u001b[1;31m# Typecaste/Convert String 'hi' to Integer - Not Possible\u001b[0m\u001b[1;33m\u001b[0m\u001b[0m\n\u001b[0m\u001b[1;32m      3\u001b[0m \u001b[0mprint\u001b[0m \u001b[1;33m(\u001b[0m\u001b[0manum\u001b[0m\u001b[1;33m)\u001b[0m\u001b[1;33m\u001b[0m\u001b[0m\n",
      "\u001b[0;31mValueError\u001b[0m: invalid literal for int() with base 10: 'hi'"
     ]
    }
   ],
   "source": [
    "a = \"hi\"               # String\n",
    "anum = int(a)         # Typecaste/Convert String 'hi' to Integer - Not Possible\n",
    "print (anum)\n"
   ]
  },
  {
   "cell_type": "code",
   "execution_count": 22,
   "metadata": {
    "collapsed": false
   },
   "outputs": [
    {
     "name": "stdout",
     "output_type": "stream",
     "text": [
      "hi there\n",
      "8\n"
     ]
    }
   ],
   "source": [
    "a = \"hi there\"\n",
    "print (a)\n",
    "print (len(a))\n"
   ]
  },
  {
   "cell_type": "code",
   "execution_count": 23,
   "metadata": {
    "collapsed": false
   },
   "outputs": [
    {
     "ename": "TypeError",
     "evalue": "must be str, not int",
     "output_type": "error",
     "traceback": [
      "\u001b[0;31m---------------------------------------------------------------------------\u001b[0m",
      "\u001b[0;31mTypeError\u001b[0m                                 Traceback (most recent call last)",
      "\u001b[0;32m<ipython-input-23-33213df96df0>\u001b[0m in \u001b[0;36m<module>\u001b[0;34m()\u001b[0m\n\u001b[1;32m      2\u001b[0m \u001b[1;31m# len(a) = 8, which is numeric\u001b[0m\u001b[1;33m\u001b[0m\u001b[1;33m\u001b[0m\u001b[0m\n\u001b[1;32m      3\u001b[0m \u001b[1;33m\u001b[0m\u001b[0m\n\u001b[0;32m----> 4\u001b[0;31m \u001b[0ma\u001b[0m \u001b[1;33m+\u001b[0m \u001b[0mlen\u001b[0m\u001b[1;33m(\u001b[0m\u001b[0ma\u001b[0m\u001b[1;33m)\u001b[0m \u001b[1;31m# Concatenating String & Integer - Error\u001b[0m\u001b[1;33m\u001b[0m\u001b[0m\n\u001b[0m",
      "\u001b[0;31mTypeError\u001b[0m: must be str, not int"
     ]
    }
   ],
   "source": [
    "# a is 'hi there' . i.e. it is a string\n",
    "# len(a) = 8, which is numeric\n",
    "\n",
    "a + len(a) # Concatenating String & Integer - Error\n"
   ]
  },
  {
   "cell_type": "code",
   "execution_count": 24,
   "metadata": {
    "collapsed": false
   },
   "outputs": [
    {
     "data": {
      "text/plain": [
       "'hi there8'"
      ]
     },
     "execution_count": 24,
     "metadata": {},
     "output_type": "execute_result"
    }
   ],
   "source": [
    "a + str(len(a)) # Convert to String so that concatenation works"
   ]
  },
  {
   "cell_type": "code",
   "execution_count": 25,
   "metadata": {
    "collapsed": false
   },
   "outputs": [
    {
     "name": "stdout",
     "output_type": "stream",
     "text": [
      "['T', 'h', 'i', 's', ' ', 'i', 's', ' ', 'p', 'y', 't', 'h', 'o', 'n']\n"
     ]
    }
   ],
   "source": [
    "# Lets us see how to create formatted outputs\n",
    "string = \"This is python\"\n",
    "strlist = list(string)\n",
    "print(strlist)\n",
    "\n"
   ]
  },
  {
   "cell_type": "code",
   "execution_count": 26,
   "metadata": {
    "collapsed": false
   },
   "outputs": [
    {
     "data": {
      "text/plain": [
       "'46.557 Indian Rupees is S$1'"
      ]
     },
     "execution_count": 26,
     "metadata": {},
     "output_type": "execute_result"
    }
   ],
   "source": [
    "format = '%.3f %s is S$%d'            # Let us visualize the formatting '%.2f %s is $%d' is like 'Float String Integer'\n",
    "format %(46.5568,'Indian Rupees',1)"
   ]
  },
  {
   "cell_type": "code",
   "execution_count": 27,
   "metadata": {
    "collapsed": false
   },
   "outputs": [
    {
     "name": "stdout",
     "output_type": "stream",
     "text": [
      "2\n",
      "['This', 'is', 'python']\n",
      "THIS IS PYTHON\n",
      "this is python\n",
      "tHIS IS PYTHON\n"
     ]
    }
   ],
   "source": [
    "string = \"This is python\"\n",
    "print (string.count('s'))\n",
    "print (string.split(' '))\n",
    "print (string.upper())\n",
    "print (string.lower())\n",
    "print (string.swapcase())\n"
   ]
  },
  {
   "cell_type": "markdown",
   "metadata": {},
   "source": [
    "**Resume from here on 15/04/2018**"
   ]
  },
  {
   "cell_type": "code",
   "execution_count": 28,
   "metadata": {
    "collapsed": false
   },
   "outputs": [
    {
     "name": "stdout",
     "output_type": "stream",
     "text": [
      "    Today is a bright sunny day in New York\n",
      "Today is a bright sunny day in New York      \n",
      "Today is a bright sunny day in New York\n",
      " , , , ,T,o,d,a,y, ,i,s, ,a, ,b,r,i,g,h,t, ,s,u,n,n,y, ,d,a,y, ,i,n, ,N,e,w, ,Y,o,r,k, , , , , , \n"
     ]
    }
   ],
   "source": [
    "str1 = \"    Today is a bright sunny day in New York      \"\n",
    "print (str1.rstrip())                   # Remove spaces from right \n",
    "print (str1.lstrip())                   # Remove spaces from left \n",
    "print (str1.strip())                    # Remove spaces from both sides  \n",
    "\n",
    "print (\",\".join(str1))                  # Sequence of elements to be joined"
   ]
  },
  {
   "cell_type": "code",
   "execution_count": 29,
   "metadata": {
    "collapsed": false
   },
   "outputs": [
    {
     "name": "stdout",
     "output_type": "stream",
     "text": [
      "Hello World\n",
      "Hello,World\n"
     ]
    }
   ],
   "source": [
    "print (\" \".join([\"Hello\",\"World\"]))   # How to do string concatenation. \n",
    "print (\",\".join([\"Hello\",\"World\"]))   # How to do string concatenation. "
   ]
  },
  {
   "cell_type": "code",
   "execution_count": 30,
   "metadata": {
    "collapsed": false
   },
   "outputs": [
    {
     "name": "stdout",
     "output_type": "stream",
     "text": [
      "True\n",
      "False\n"
     ]
    }
   ],
   "source": [
    "school = 'Delhi Public School'\n",
    "print('D' in school)\n",
    "print('U' in school)"
   ]
  },
  {
   "cell_type": "code",
   "execution_count": 32,
   "metadata": {
    "collapsed": false
   },
   "outputs": [
    {
     "name": "stdout",
     "output_type": "stream",
     "text": [
      "14\n",
      "0.9032 <class 'float'>\n"
     ]
    }
   ],
   "source": [
    "# Let see how to get the type of the variables\n",
    "x='Value of x is :   0.9032'\n",
    "pos = x.find(':')\n",
    "print(pos)\n",
    "\n",
    "\n",
    "num=float(x[pos+1:])\n",
    "print (num, type(num))"
   ]
  },
  {
   "cell_type": "code",
   "execution_count": 34,
   "metadata": {
    "collapsed": false
   },
   "outputs": [
    {
     "name": "stdout",
     "output_type": "stream",
     "text": [
      "Hello,\n",
      "world of Python\n",
      "Hello,_world of Python\n"
     ]
    }
   ],
   "source": [
    "# For the string, get first 6 characters, and last 15 characters.\n",
    "# Now join them to form a new string with an underscore in between\n",
    "\n",
    "strr = 'Hello, welcome to the world of Python'\n",
    "a = strr[0:6]             # First 6 chars\n",
    "b = strr[-15:]             # Last 15 Chars     \n",
    "\n",
    "print(a)\n",
    "print(b)\n",
    "\n",
    "c = a + '_' + b\n",
    "print(c)"
   ]
  },
  {
   "cell_type": "code",
   "execution_count": 35,
   "metadata": {
    "collapsed": false
   },
   "outputs": [
    {
     "name": "stdout",
     "output_type": "stream",
     "text": [
      "Hello,_world of Python\n"
     ]
    }
   ],
   "source": [
    "d = '_'.join([a,b])\n",
    "print(d)"
   ]
  },
  {
   "cell_type": "code",
   "execution_count": 36,
   "metadata": {
    "collapsed": false
   },
   "outputs": [
    {
     "name": "stdout",
     "output_type": "stream",
     "text": [
      "Worlo\n",
      "Helld\n",
      "Worlo|Helld\n"
     ]
    }
   ],
   "source": [
    "x = 'Hello'        # Hello -> Worlo\n",
    "y = 'World'        # World -> Helld\n",
    "#Swap first three characters of each string and join them by an |\n",
    "\n",
    "first = y[0:3] + x[3:]     # Worlo\n",
    "second = x[0:3] + y[3:]    #Helld\n",
    "\n",
    "print(first)\n",
    "print(second)\n",
    "\n",
    "final = first + '|' + second     #Worlo|Helld\n",
    "\n",
    "print(final)              "
   ]
  },
  {
   "cell_type": "markdown",
   "metadata": {},
   "source": [
    "**Datime**\n",
    " \n",
    " 1. Built in Module\n",
    " \n",
    " 2. V flexible and supports up to nano seconds"
   ]
  },
  {
   "cell_type": "code",
   "execution_count": 37,
   "metadata": {
    "collapsed": false
   },
   "outputs": [
    {
     "name": "stdout",
     "output_type": "stream",
     "text": [
      "Help on built-in function strptime:\n",
      "\n",
      "strptime(...) method of builtins.type instance\n",
      "    string, format -> new datetime parsed from a string (like time.strptime()).\n",
      "\n",
      "2017-01-07 08:00:01\n"
     ]
    }
   ],
   "source": [
    "from datetime import datetime, date, time\n",
    "\n",
    "help(datetime.strptime)                           # Help for a function\n",
    "                                                  #The datetime.strptime() class method creates a datetime object from a string \n",
    "print(datetime.strptime('20170107080001','%Y%m%d%H%M%S'))     "
   ]
  },
  {
   "cell_type": "code",
   "execution_count": 38,
   "metadata": {
    "collapsed": false
   },
   "outputs": [
    {
     "name": "stdout",
     "output_type": "stream",
     "text": [
      "7\n",
      "2017-01-07 08:00:01\n"
     ]
    }
   ],
   "source": [
    "date1 = datetime(2017, 1, 7, 8, 0, 1)\n",
    "print(date1.day)\n",
    "print(date1)"
   ]
  },
  {
   "cell_type": "code",
   "execution_count": 40,
   "metadata": {
    "collapsed": false
   },
   "outputs": [
    {
     "name": "stdout",
     "output_type": "stream",
     "text": [
      "22\n",
      "2016-01-22 00:00:00\n"
     ]
    }
   ],
   "source": [
    "date2 = datetime(2016, 1, 22)\n",
    "print(date2.day)\n",
    "print(date2)"
   ]
  },
  {
   "cell_type": "code",
   "execution_count": 41,
   "metadata": {
    "collapsed": false
   },
   "outputs": [
    {
     "name": "stdout",
     "output_type": "stream",
     "text": [
      "351 days, 8:00:01\n"
     ]
    }
   ],
   "source": [
    "datediff = date1 - date2\n",
    "print(datediff)"
   ]
  },
  {
   "cell_type": "markdown",
   "metadata": {},
   "source": [
    "**List, Dictionary and Tuple**\n",
    "\n",
    "List (Similar to arrays)\n",
    "1. specify/Enclose in sqare brackets - **[ ]**\n",
    "2. **Mutable.** (Delete value, add new value in middle/start)\n",
    "3. All elements are separated by commas\n",
    "\n",
    "\n",
    "Tuple (Similar to list)\n",
    "1. specify/Enclose in sqare brackets - **( )**\n",
    "2. **ImMutable.** (Can not Delete value, Can not add new value in middle/start. **However can add new value at the end**)\n",
    "\n",
    "\n",
    "Dictionary\n",
    "1. specify/Enclose in curly brackets - **{ }**\n",
    "2. **Key Value Pair** - (Key will be always 1, value can be multiple)\n",
    "\n"
   ]
  },
  {
   "cell_type": "markdown",
   "metadata": {},
   "source": [
    "**List Examples**"
   ]
  },
  {
   "cell_type": "code",
   "execution_count": 42,
   "metadata": {
    "collapsed": false
   },
   "outputs": [
    {
     "name": "stdout",
     "output_type": "stream",
     "text": [
      "['abc', 123, 5.67, 'XYZ', 11.2, 'qaz']\n",
      "[123, 'XYZ']\n",
      "abc\n",
      "[123, 5.67]\n",
      "[123, 5.67, 'XYZ', 11.2, 'qaz']\n",
      "[123, 'XYZ', 123, 'XYZ']\n",
      "['abc', 123, 5.67, 'XYZ', 11.2, 'qaz', 123, 'XYZ']\n",
      "2\n"
     ]
    }
   ],
   "source": [
    "list1 = [ 'abc', 123 , 5.67, 'XYZ', 11.2, 'qaz' ]\n",
    "list2 = [123, 'XYZ']\n",
    "\n",
    "print (list1)            # Print First list - o/p will print [ 'abc', 123 , 5.67, 'XYZ', 11.2, 'qaz' ]\n",
    "print (list2)            # Print Second list - o/p will print [123, 'XYZ']\n",
    "\n",
    "print (list1[0])         # Print first element of the list1   - o/p will be 0th index of list1 . i.e. 'abc'\n",
    "print (list1[1:3])       # Print elements starting from 2nd till 3rd  - o/p will be 123 , 5.67,\n",
    "print (list1[1:])        # Print elements starting from 2nd element  - o/p will be 123 , 5.67, 'XYZ', 11.2, 'qaz'\n",
    "\n",
    "print (list2 * 2)        # Print Second list 2 times. Asterisk ( * ) is repetition operator. - o/p will be 123, 'XYZ', 123, 'XYZ'\n",
    "print (list1 + list2)    # Print concatenated lists. Plus ( + ) is the concatenation operator\n",
    "                             # o/p will be 'abc', 123 , 5.67, 'XYZ', 11.2, 'qaz' , 123, 'XYZ'\n",
    "print (len(list2))       # Print length of list2       # o/p will be 2"
   ]
  },
  {
   "cell_type": "code",
   "execution_count": 43,
   "metadata": {
    "collapsed": false
   },
   "outputs": [
    {
     "name": "stdout",
     "output_type": "stream",
     "text": [
      "['abc', 123, 5.67, 'XYZ', 11.2, 'qaz', 'abc', 123, 5.67, 'XYZ', 11.2, 'qaz']\n",
      "['abc', 123, 5.67, 'XYZ', 11.2, 'qaz']\n"
     ]
    }
   ],
   "source": [
    "lista = [ 'abc', 123 , 5.67, 'XYZ', 11.2, 'qaz' ]\n",
    "listb = lista          # Listb will be come [ 'abc', 123 , 5.67, 'XYZ', 11.2, 'qaz' ]\n",
    "lista = lista*2        # lista will be come [ 'abc', 123 , 5.67, 'XYZ', 11.2, 'qaz', 'abc', 123 , 5.67, 'XYZ', 11.2, 'qaz' ]\n",
    "\n",
    "print (lista)          \n",
    "print (listb)"
   ]
  },
  {
   "cell_type": "code",
   "execution_count": 45,
   "metadata": {
    "collapsed": false
   },
   "outputs": [
    {
     "name": "stdout",
     "output_type": "stream",
     "text": [
      "['Mumbai', 'Delhi', 'Chennai']\n",
      "['Mumbai', 'Delhi', 'Chennai', 'Hyderabad']\n",
      "['Banglore', 'Mumbai', 'Delhi', 'Chennai', 'Hyderabad']\n",
      "['Banglore', 'Mumbai', 'Delhi', 'Chennai', 'Hyderabad', 'City1', 'City2']\n",
      "['Banglore', 'Mumbai', 'Delhi', 'Chennai', 'Hyderabad', 'City1', 'City2', 'City3', 'City4', 'City5']\n",
      "5\n",
      "['Banglore', 'Mumbai', 'Delhi', 'Chennai', 'Hyderabad', 'City1', 'City2', 'City3', 'City5']\n",
      "['Banglore', 'Delhi', 'Chennai', 'Hyderabad', 'City1', 'City2', 'City3', 'City5']\n"
     ]
    }
   ],
   "source": [
    "list1 = ['Mumbai', 'Delhi', 'Chennai']\n",
    "print (list1)\n",
    "\n",
    "list1.append('Hyderabad')      \n",
    "print (list1)\n",
    "\n",
    "list1.insert(0, 'Banglore')\n",
    "print (list1)\n",
    "\n",
    "list1.extend(['City1', 'City2']) \n",
    "print (list1)                         # Append can add only 1 element at end where as extend can add multiple elements\n",
    "\n",
    "list2 = ['City3', 'City4', 'City5']\n",
    "list1.extend(list2)\n",
    "print (list1)  \n",
    "\n",
    "print (list1.index('City1')) \n",
    "\n",
    "list1.remove('City4')                # Remove by Name\n",
    "print (list1)  \n",
    "\n",
    "list1.pop(1)                         # Remove by Index\n",
    "print (list1)"
   ]
  },
  {
   "cell_type": "code",
   "execution_count": 54,
   "metadata": {
    "collapsed": false
   },
   "outputs": [
    {
     "name": "stdout",
     "output_type": "stream",
     "text": [
      "[1, 3, 5, 7, 9, 11, 13, 15, 17]\n",
      "9\n",
      "17\n",
      "1\n"
     ]
    }
   ],
   "source": [
    "#Sorting\n",
    "numberlist = [9, 3, 15, 7, 13, 1, 5, 11, 17]\n",
    "numberlist.sort()\n",
    "print(numberlist)\n",
    "\n",
    "print (len(numberlist))\n",
    "print (max(numberlist))\n",
    "print (min(numberlist))"
   ]
  },
  {
   "cell_type": "code",
   "execution_count": 55,
   "metadata": {
    "collapsed": true
   },
   "outputs": [],
   "source": [
    "numberlist.sort?"
   ]
  },
  {
   "cell_type": "code",
   "execution_count": 53,
   "metadata": {
    "collapsed": false
   },
   "outputs": [
    {
     "name": "stdout",
     "output_type": "stream",
     "text": [
      "[17, 15, 13, 11, 9, 7, 5, 3, 1]\n"
     ]
    }
   ],
   "source": [
    "numberlist.sort(key=None, reverse=True)\n",
    "print(numberlist)"
   ]
  },
  {
   "cell_type": "code",
   "execution_count": 56,
   "metadata": {
    "collapsed": false
   },
   "outputs": [
    {
     "name": "stdout",
     "output_type": "stream",
     "text": [
      "['g', 'lm', 'hijk', 'abcded', 'nopqrst']\n",
      "['abcded', 'g', 'hijk', 'lm', 'nopqrst']\n"
     ]
    }
   ],
   "source": [
    "charlist = ['abcded', 'g', 'hijk', 'lm', 'nopqrst']\n",
    "print (sorted(charlist, key=len))      # Sorted will not change the list.\n",
    "print(charlist)                        # Value of list remains the same.                       "
   ]
  },
  {
   "cell_type": "markdown",
   "metadata": {},
   "source": [
    "**Dictionary**"
   ]
  },
  {
   "cell_type": "code",
   "execution_count": 57,
   "metadata": {
    "collapsed": false
   },
   "outputs": [
    {
     "name": "stdout",
     "output_type": "stream",
     "text": [
      "This is 1st String\n",
      "This is 2nd String\n"
     ]
    }
   ],
   "source": [
    "#Dictionary is an abstract data type composed of collection of (key, value) pairs, key will be only 1 time, value can be multiple\n",
    "# Example 1: Single Key , Single Value\n",
    "dict1 = {}\n",
    "dict1['one'] = \"This is 1st String\"\n",
    "dict1[2]     = \"This is 2nd String\"\n",
    "\n",
    "print (dict1['one'])       # Prints value for 'one' key\n",
    "print (dict1[2])           # Prints value for 2 key"
   ]
  },
  {
   "cell_type": "code",
   "execution_count": 58,
   "metadata": {
    "collapsed": false
   },
   "outputs": [
    {
     "name": "stdout",
     "output_type": "stream",
     "text": [
      "{'state': 'Maharashtra', 'city': ['Mumbai', 'Pune'], 'code': 23, 'dept': 'GST'}\n",
      "dict_keys(['state', 'city', 'code', 'dept'])\n",
      "dict_values(['Maharashtra', ['Mumbai', 'Pune'], 23, 'GST'])\n"
     ]
    }
   ],
   "source": [
    "# Example 2: Single Key , Multiple Values\n",
    "dict2 = {'state': 'Maharashtra', 'city': ['Mumbai', 'Pune'],'code':23, 'dept': 'GST'}\n",
    "print (dict2)          # Prints complete dictionary\n",
    "print (dict2.keys())   # Prints all the keys\n",
    "print (dict2.values()) # Prints all the values"
   ]
  },
  {
   "cell_type": "markdown",
   "metadata": {},
   "source": [
    "** Tuple **"
   ]
  },
  {
   "cell_type": "code",
   "execution_count": 64,
   "metadata": {
    "collapsed": false
   },
   "outputs": [
    {
     "name": "stdout",
     "output_type": "stream",
     "text": [
      "(1, 2, 3, 4)\n",
      "1\n",
      "(1, 2, 3, 4, 10)\n"
     ]
    }
   ],
   "source": [
    "a = (1,2,3,4)\n",
    "print(a)\n",
    "\n",
    "\n",
    "# a[0]=10               # can not change the value or add in middle, as Tuple is immutable. Comment this line\n",
    "print(a.index(2)) \n",
    " \n",
    "a = a + (10,)           # Can append at the end      \n",
    "print(a)"
   ]
  },
  {
   "cell_type": "code",
   "execution_count": 65,
   "metadata": {
    "collapsed": false
   },
   "outputs": [
    {
     "name": "stdout",
     "output_type": "stream",
     "text": [
      "2004921352128\n",
      "0x1d2ce9fffc0\n"
     ]
    }
   ],
   "source": [
    "print(id(a))                 # ID is unique number for all objects in program\n",
    "print(hex(id(a)))"
   ]
  },
  {
   "cell_type": "code",
   "execution_count": 66,
   "metadata": {
    "collapsed": false
   },
   "outputs": [
    {
     "name": "stdout",
     "output_type": "stream",
     "text": [
      "()\n"
     ]
    }
   ],
   "source": [
    "# empty tuple\n",
    "tuple1 = ()\n",
    "print(tuple1)"
   ]
  },
  {
   "cell_type": "code",
   "execution_count": 67,
   "metadata": {
    "collapsed": false
   },
   "outputs": [
    {
     "name": "stdout",
     "output_type": "stream",
     "text": [
      "(1, 2, 3)\n"
     ]
    }
   ],
   "source": [
    "# Integer tuple\n",
    "tuple1 = (1, 2, 3)\n",
    "print(tuple1)"
   ]
  },
  {
   "cell_type": "code",
   "execution_count": 68,
   "metadata": {
    "collapsed": false
   },
   "outputs": [
    {
     "name": "stdout",
     "output_type": "stream",
     "text": [
      "(1, 'Hello', 2.3)\n"
     ]
    }
   ],
   "source": [
    "# Mixed tuple\n",
    "tuple1 = (1, \"Hello\", 2.3)\n",
    "print(tuple1)"
   ]
  },
  {
   "cell_type": "code",
   "execution_count": 69,
   "metadata": {
    "collapsed": false
   },
   "outputs": [
    {
     "name": "stdout",
     "output_type": "stream",
     "text": [
      "('mouse', [1, 2, 3], (1, 'b', 3))\n"
     ]
    }
   ],
   "source": [
    "#Nested Tuple\n",
    "tuple1 = (\"mouse\", [1, 2, 3], (1, \"b\", 3))\n",
    "print(tuple1)"
   ]
  },
  {
   "cell_type": "code",
   "execution_count": 70,
   "metadata": {
    "collapsed": false
   },
   "outputs": [
    {
     "name": "stdout",
     "output_type": "stream",
     "text": [
      "(3, 2.3, 'dog')\n"
     ]
    }
   ],
   "source": [
    "#Without () parantheses\n",
    "tuple1 = 3, 2.3, \"dog\"\n",
    "print(tuple1)"
   ]
  },
  {
   "cell_type": "code",
   "execution_count": 71,
   "metadata": {
    "collapsed": false
   },
   "outputs": [
    {
     "name": "stdout",
     "output_type": "stream",
     "text": [
      "3\n",
      "2.3\n",
      "dog\n"
     ]
    }
   ],
   "source": [
    "# Unpacking Tuple\n",
    "a, b, c = tuple1\n",
    "print(a)\n",
    "print(b)\n",
    "print(c)"
   ]
  },
  {
   "cell_type": "markdown",
   "metadata": {},
   "source": [
    "**Operators**\n",
    "1. + - Addition\n",
    "2. - - Subtraction\n",
    "3. * - Multiply\n",
    "4. ** - Raise to/ power\n",
    "5. / - Divide\n",
    "6. // - Floor Divide - \n",
    "9/2 = 4 (round towards 0 for +ve no)       \n",
    "9.0/2.0 = 4.0\n",
    "\n",
    "-11/3 = (-3.75) = -4 (away from 0 for -ve no)\n",
    "\n",
    "7. % - Modulus \n",
    "8. < less than\n",
    "9. > greater than\n",
    "10. <= , >= , == , != , \n",
    "11. boolean : not , and , or"
   ]
  },
  {
   "cell_type": "code",
   "execution_count": 73,
   "metadata": {
    "collapsed": false
   },
   "outputs": [
    {
     "name": "stdout",
     "output_type": "stream",
     "text": [
      "1 False\n",
      "2 True\n",
      "3 False\n",
      "4 False\n",
      "5 False\n",
      "6 True\n",
      "7 True\n",
      "8 False\n",
      "9 False\n"
     ]
    }
   ],
   "source": [
    "a = 7\n",
    "b = 8\n",
    "\n",
    "print (1, a == 6)\n",
    "print (2, a == 7)\n",
    "print (3, a == 6 and b == 7)\n",
    "print (4, a == 7 and b == 7)\n",
    "print (5, not a == 7 and b == 7)\n",
    "print (6, a == 7 or b == 7)\n",
    "print (7, a == 7 or b == 8)\n",
    "print (8, not (a == 7 and b == 8))\n",
    "print (9, not a == 7 and b == 8)\n"
   ]
  },
  {
   "cell_type": "markdown",
   "metadata": {},
   "source": [
    "**Conditional Statements**"
   ]
  },
  {
   "cell_type": "markdown",
   "metadata": {},
   "source": [
    "**IF - ELSE**\n",
    "\n",
    "1. Else is optional\n",
    "2. Indentation is important (whitespaces)\n"
   ]
  },
  {
   "cell_type": "code",
   "execution_count": 74,
   "metadata": {
    "collapsed": false
   },
   "outputs": [
    {
     "name": "stdout",
     "output_type": "stream",
     "text": [
      "else\n"
     ]
    }
   ],
   "source": [
    "a = 2\n",
    "if a >= 3:\n",
    "   print(\"if\")\n",
    "elif a >= 21:\n",
    "   print(\"elif\")\n",
    "else:\n",
    "   print(\"else\")"
   ]
  },
  {
   "cell_type": "code",
   "execution_count": 78,
   "metadata": {
    "collapsed": false
   },
   "outputs": [
    {
     "name": "stdout",
     "output_type": "stream",
     "text": [
      "did not find Mumbai\n"
     ]
    }
   ],
   "source": [
    "#Testing for an element in list\n",
    "list = ['Mumbai', 'Delhi', 'Chennai']\n",
    "if 'Mumbai' in list:\n",
    "    print ('Found Mumbai')\n",
    "# else:\n",
    "#    print ('did not find Mumbai')"
   ]
  },
  {
   "cell_type": "markdown",
   "metadata": {},
   "source": [
    "**While**\n",
    "1. Execute until conditional statement is true"
   ]
  },
  {
   "cell_type": "code",
   "execution_count": 79,
   "metadata": {
    "collapsed": false
   },
   "outputs": [
    {
     "name": "stdout",
     "output_type": "stream",
     "text": [
      "Value of n is : 0\n",
      "Value of n is : 1\n",
      "Value of n is : 2\n",
      "Value of n is : 3\n",
      "Value of n is : 4\n",
      "Value of n is : 5\n",
      "End of while loop!\n"
     ]
    }
   ],
   "source": [
    "n = 0\n",
    "while (n <= 5):\n",
    "   print ('Value of n is :', n)\n",
    "   n = n + 1\n",
    "\n",
    "print (\"End of while loop!\")\n"
   ]
  },
  {
   "cell_type": "markdown",
   "metadata": {},
   "source": [
    "**FOR Statement**\n"
   ]
  },
  {
   "cell_type": "code",
   "execution_count": 80,
   "metadata": {
    "collapsed": false
   },
   "outputs": [
    {
     "name": "stdout",
     "output_type": "stream",
     "text": [
      "1\n",
      "4\n",
      "7\n",
      "The for loop is over\n"
     ]
    }
   ],
   "source": [
    "for i in range(1,10,3):     # Start from 1, increase by 3 till less than 10\n",
    "    print (i)                  # 1 , 4, 7 \n",
    "else:\n",
    "   print (\"The for loop is over\")"
   ]
  },
  {
   "cell_type": "code",
   "execution_count": 90,
   "metadata": {
    "collapsed": false
   },
   "outputs": [
    {
     "name": "stdout",
     "output_type": "stream",
     "text": [
      "7\n",
      "<class 'int'>\n"
     ]
    }
   ],
   "source": [
    "numbers = [4 , 1 , 2 ]\n",
    "sum = 0\n",
    "\n",
    "for num in numbers:\n",
    "    sum += num          # Step1: 0+4 = 4 , Step2: 4+1 = 5, Step3: 5+2 = 7\n",
    "    \n",
    "print (sum)\n",
    "\n",
    "print (type(num))"
   ]
  },
  {
   "cell_type": "code",
   "execution_count": 82,
   "metadata": {
    "collapsed": false
   },
   "outputs": [
    {
     "name": "stdout",
     "output_type": "stream",
     "text": [
      "[6, 3, 4]\n"
     ]
    }
   ],
   "source": [
    "numbers = [4, 1, 2]\n",
    "sum = [ i+2 for i in numbers ]    # [4, 1, 2] + 2 ===> [6, 3, 4]\n",
    "print (sum)"
   ]
  },
  {
   "cell_type": "code",
   "execution_count": 83,
   "metadata": {
    "collapsed": false
   },
   "outputs": [
    {
     "name": "stdout",
     "output_type": "stream",
     "text": [
      "[3, 4]\n"
     ]
    }
   ],
   "source": [
    "numbers = [4, 1, 2]\n",
    "sum = [ i+2 for i in numbers if i<= 3]     # [4, 1, 2] + 2 ===> [3, 4]\n",
    "print (sum)"
   ]
  },
  {
   "cell_type": "markdown",
   "metadata": {},
   "source": [
    "**BREAK**\n",
    "\n",
    "End the looping even if condition is true\n"
   ]
  },
  {
   "cell_type": "code",
   "execution_count": 84,
   "metadata": {
    "collapsed": false
   },
   "outputs": [
    {
     "name": "stdout",
     "output_type": "stream",
     "text": [
      "1\n"
     ]
    }
   ],
   "source": [
    "for i in range(1,10,3):\n",
    "    print (i)\n",
    "    break\n",
    "else:\n",
    "   print (\"The for loop is over\")"
   ]
  },
  {
   "cell_type": "code",
   "execution_count": null,
   "metadata": {
    "collapsed": true
   },
   "outputs": [],
   "source": [
    "Functions - 15 Minutes\n",
    "Modules - 20 Minutes\n",
    "\n",
    "Read, Write from File - 20 Minutes\n",
    "\n",
    "Exception handling - 20 Minutes"
   ]
  },
  {
   "cell_type": "markdown",
   "metadata": {},
   "source": [
    "**E - Functions**\n",
    "1. Reusable peice of code. \n",
    "2. it accepts list of arguments, and also returns\n",
    "3. def keyword to define funtion\n",
    "4. Scope of the variable is local in function"
   ]
  },
  {
   "cell_type": "code",
   "execution_count": 91,
   "metadata": {
    "collapsed": false
   },
   "outputs": [
    {
     "name": "stdout",
     "output_type": "stream",
     "text": [
      "Hello World!\n"
     ]
    }
   ],
   "source": [
    "def printHello():\n",
    "    print('Hello World!')  \n",
    "# Note: End of function is found using indentation (whitespace/spaces)\n",
    "\n",
    "printHello()"
   ]
  },
  {
   "cell_type": "code",
   "execution_count": 93,
   "metadata": {
    "collapsed": false
   },
   "outputs": [
    {
     "name": "stdout",
     "output_type": "stream",
     "text": [
      "9 is maximum\n"
     ]
    }
   ],
   "source": [
    "# Find maximum of 2 numbers\n",
    "def findmax(a,b):\n",
    "   if a > b:\n",
    "       print(a, 'is maximum')\n",
    "   elif a == b:\n",
    "       print(a, 'is equal to', b)\n",
    "   else:\n",
    "       print(b, 'is maximum')\n",
    "\n",
    "findmax(7,9)"
   ]
  },
  {
   "cell_type": "code",
   "execution_count": 94,
   "metadata": {
    "collapsed": false
   },
   "outputs": [
    {
     "name": "stdout",
     "output_type": "stream",
     "text": [
      "a is 3 and b is 2 and c is 88\n",
      "a is 25 and b is 7 and c is 24\n",
      "a is 100 and b is 7 and c is 50\n"
     ]
    }
   ],
   "source": [
    "def func(a, b=7, c=88):\n",
    "   print('a is', a, 'and b is', b, 'and c is', c)\n",
    "\n",
    "\n",
    "func(3,2)\n",
    "func(25, c=24)\n",
    "func(c=50, a=100)"
   ]
  },
  {
   "cell_type": "code",
   "execution_count": 95,
   "metadata": {
    "collapsed": false
   },
   "outputs": [
    {
     "name": "stdout",
     "output_type": "stream",
     "text": [
      "Welcome\n",
      "Python! Python! Python! \n"
     ]
    }
   ],
   "source": [
    "def say(str, times = 1):\n",
    "   print(str * times)\n",
    "\n",
    "say('Welcome')\n",
    "say('Python! ', 3)"
   ]
  },
  {
   "cell_type": "code",
   "execution_count": 96,
   "metadata": {
    "collapsed": false
   },
   "outputs": [
    {
     "name": "stdout",
     "output_type": "stream",
     "text": [
      "---Start of Function---\n",
      "x is 7\n",
      "Changed local x to 3\n",
      "---End of Function---\n",
      "x is still 7\n"
     ]
    }
   ],
   "source": [
    "def func(x):                        # 3. function func is invoked and value of x is 7\n",
    "   print('---Start of Function---') # 4. print this line\n",
    "   print('x is', x)                 # 5. print : x is : 7\n",
    "   x = 3                            # 6. x = 3\n",
    "   print('Changed local x to', x)   # 7. print: changed local x to : 3\n",
    "   print('---End of Function---')   # 8. print: End of Function\n",
    "\n",
    "x = 7                                   # 1. x = 7\n",
    "func(x)                                 # 2. call func, pass value of x as 7\n",
    "print('x is still', x)               # 9. Print x is still 7"
   ]
  },
  {
   "cell_type": "markdown",
   "metadata": {},
   "source": [
    "**F Module**\n",
    "\n",
    "1. Function: used in same program.... Module: It can be used in other programs.\n",
    "2. import statement is required to use module\n",
    "3. Module is program with .py extension"
   ]
  },
  {
   "cell_type": "code",
   "execution_count": 97,
   "metadata": {
    "collapsed": false
   },
   "outputs": [
    {
     "name": "stdout",
     "output_type": "stream",
     "text": [
      "5\n",
      "5.0\n",
      "120\n",
      "120\n"
     ]
    }
   ],
   "source": [
    "import math\n",
    "\n",
    "x = -5\n",
    "print(abs(x))\n",
    "print(math.fabs(x))\n",
    "\n",
    "print(math.factorial(abs(x)))              # 5 * 4 * 3 * 2 * 1 = 120\n",
    "print(math.factorial(math.fabs(x)))"
   ]
  },
  {
   "cell_type": "code",
   "execution_count": 98,
   "metadata": {
    "collapsed": false
   },
   "outputs": [
    {
     "name": "stdout",
     "output_type": "stream",
     "text": [
      "['', 'C:\\\\Users\\\\Vinit\\\\Anaconda3\\\\python36.zip', 'C:\\\\Users\\\\Vinit\\\\Anaconda3\\\\DLLs', 'C:\\\\Users\\\\Vinit\\\\Anaconda3\\\\lib', 'C:\\\\Users\\\\Vinit\\\\Anaconda3', 'C:\\\\Users\\\\Vinit\\\\Anaconda3\\\\lib\\\\site-packages', 'C:\\\\Users\\\\Vinit\\\\Anaconda3\\\\lib\\\\site-packages\\\\Sphinx-1.5.1-py3.6.egg', 'C:\\\\Users\\\\Vinit\\\\Anaconda3\\\\lib\\\\site-packages\\\\win32', 'C:\\\\Users\\\\Vinit\\\\Anaconda3\\\\lib\\\\site-packages\\\\win32\\\\lib', 'C:\\\\Users\\\\Vinit\\\\Anaconda3\\\\lib\\\\site-packages\\\\Pythonwin', 'C:\\\\Users\\\\Vinit\\\\Anaconda3\\\\lib\\\\site-packages\\\\setuptools-27.2.0-py3.6.egg', 'C:\\\\Users\\\\Vinit\\\\Anaconda3\\\\lib\\\\site-packages\\\\IPython\\\\extensions', 'C:\\\\Users\\\\Vinit\\\\.ipython']\n",
      "['', 'C:\\\\Users\\\\Vinit\\\\Anaconda3\\\\python36.zip', 'C:\\\\Users\\\\Vinit\\\\Anaconda3\\\\DLLs', 'C:\\\\Users\\\\Vinit\\\\Anaconda3\\\\lib', 'C:\\\\Users\\\\Vinit\\\\Anaconda3', 'C:\\\\Users\\\\Vinit\\\\Anaconda3\\\\lib\\\\site-packages', 'C:\\\\Users\\\\Vinit\\\\Anaconda3\\\\lib\\\\site-packages\\\\Sphinx-1.5.1-py3.6.egg', 'C:\\\\Users\\\\Vinit\\\\Anaconda3\\\\lib\\\\site-packages\\\\win32', 'C:\\\\Users\\\\Vinit\\\\Anaconda3\\\\lib\\\\site-packages\\\\win32\\\\lib', 'C:\\\\Users\\\\Vinit\\\\Anaconda3\\\\lib\\\\site-packages\\\\Pythonwin', 'C:\\\\Users\\\\Vinit\\\\Anaconda3\\\\lib\\\\site-packages\\\\setuptools-27.2.0-py3.6.egg', 'C:\\\\Users\\\\Vinit\\\\Anaconda3\\\\lib\\\\site-packages\\\\IPython\\\\extensions', 'C:\\\\Users\\\\Vinit\\\\.ipython', 'C:\\\\Users\\\\Vinit\\\\Desktop\\\\Harish\\\\Classes\\x07 April Batch\\\\A5 Day 4\\\\']\n"
     ]
    }
   ],
   "source": [
    "import sys           \n",
    "'''\n",
    "sys module has functions and variables that can be used to manipulate different parts of the Python runtime environment.\n",
    "'''\n",
    "print(sys.path)\n",
    "\n",
    "sys.path.append('C:\\\\Users\\Vinit\\Desktop\\Harish\\Classes\\7 April Batch\\A5 Day 4\\\\')\n",
    "print(sys.path)"
   ]
  },
  {
   "cell_type": "code",
   "execution_count": 99,
   "metadata": {
    "collapsed": false
   },
   "outputs": [
    {
     "name": "stdout",
     "output_type": "stream",
     "text": [
      "Enter a non negative number: 5\n",
      "120\n"
     ]
    }
   ],
   "source": [
    "from april14module import *\n",
    "\n",
    "n = input(\"Enter a non negative number: \")\n",
    "factorialn = factorial(int(n))\n",
    "print(factorialn)"
   ]
  },
  {
   "cell_type": "code",
   "execution_count": 100,
   "metadata": {
    "collapsed": false
   },
   "outputs": [
    {
     "name": "stdout",
     "output_type": "stream",
     "text": [
      "Printed from april14module.\n",
      "None\n"
     ]
    }
   ],
   "source": [
    "from april14module import *\n",
    "print(printhello())"
   ]
  },
  {
   "cell_type": "markdown",
   "metadata": {},
   "source": [
    "**G : Closing and Opening Files**"
   ]
  },
  {
   "cell_type": "code",
   "execution_count": null,
   "metadata": {
    "collapsed": false,
    "scrolled": true
   },
   "outputs": [],
   "source": [
    "f = open('C:\\\\Users\\\\Vinit\\\\Desktop\\\\Harish\\\\Classes\\\\sample.txt', 'r')   # r is for read\n",
    "for line in f:   \n",
    "    print (line)    \n",
    "f.close()"
   ]
  },
  {
   "cell_type": "code",
   "execution_count": null,
   "metadata": {
    "collapsed": false
   },
   "outputs": [],
   "source": [
    "f = open('C:\\\\Users\\\\Vinit\\\\Desktop\\\\Harish\\\\Classes\\\\sample.txt', 'r')   # r is for read\n",
    "print (\"Content is \\t\",f.read())   \n",
    "f.close()"
   ]
  },
  {
   "cell_type": "code",
   "execution_count": null,
   "metadata": {
    "collapsed": false
   },
   "outputs": [],
   "source": [
    "f = open('C:\\\\Users\\\\Vinit\\\\Desktop\\\\Harish\\\\Classes\\\\sample.txt', 'a')   # a is to ammend data\n",
    "f.write ('\\nNew Line added')\n",
    "f.close()"
   ]
  },
  {
   "cell_type": "markdown",
   "metadata": {},
   "source": [
    "**H Full Program **\n"
   ]
  },
  {
   "cell_type": "code",
   "execution_count": null,
   "metadata": {
    "collapsed": false
   },
   "outputs": [],
   "source": [
    "workingdir = (\"C:\\\\Users\\Vinit\\\\\")\n",
    "\n",
    "print(\"*****************animal.py*****************\")\n",
    "file = workingdir + \"animal.py\"   # Run fruit.py directly\n",
    "%run $file\n",
    "\n",
    "\n",
    "print(\"*****************snake.py*****************\")\n",
    "file = workingdir + \"snake.py\"   # Import fruit.py and then call it's function\n",
    "%run $file"
   ]
  },
  {
   "cell_type": "markdown",
   "metadata": {},
   "source": [
    "** I - Exception Handling**\n"
   ]
  },
  {
   "cell_type": "code",
   "execution_count": null,
   "metadata": {
    "collapsed": false
   },
   "outputs": [],
   "source": [
    "def average(numList):\n",
    "         sum = 0\n",
    "         for v in numList:\n",
    "            sum = sum + v\n",
    "         m = float(sum)/len(numList)\n",
    "         print (\"Average = \", m)\n",
    "                    \n",
    "list1 = [10,20,30,40]                     # No issues\n",
    "list2 = []                                # Blank so zero division as length is 0\n",
    "list3 = [10,20,30,'abc']                  # String so error. \n",
    "\n",
    "average(list1)\n",
    "average(list2)\n",
    "average(list3)"
   ]
  },
  {
   "cell_type": "code",
   "execution_count": null,
   "metadata": {
    "collapsed": false
   },
   "outputs": [],
   "source": [
    "def average(numList):\n",
    "     try:\n",
    "         sum = 0\n",
    "         for v in numList:\n",
    "            sum = sum + v\n",
    "         m = float(sum)/len(numList)\n",
    "         print (\"Average = \", m)\n",
    "            \n",
    "     except TypeError as ex:\n",
    "         print (\"TypeError:\", ex)\n",
    "            \n",
    "     except ZeroDivisionError as ex:\n",
    "         print (\"ZeroDivisionError:\", ex)\n",
    "                    \n",
    "list1 = [10,20,30,40]                     # No issues\n",
    "list2 = []                                # Blank so zero division as length is 0\n",
    "list3 = [10,20,30,'abc']                  # String so error. \n",
    "\n",
    "average(list1)\n",
    "average(list2)\n",
    "average(list3)"
   ]
  },
  {
   "cell_type": "markdown",
   "metadata": {},
   "source": [
    "** J Try.Except.Finally**"
   ]
  },
  {
   "cell_type": "code",
   "execution_count": null,
   "metadata": {
    "collapsed": false
   },
   "outputs": [],
   "source": [
    "def average(numList):\n",
    "     try:\n",
    "         sum = 0\n",
    "         for v in numList:\n",
    "            sum = sum + v\n",
    "         m = float(sum)/len(numList)\n",
    "         print (\"Average = \", m)\n",
    "            \n",
    "     except TypeError as ex:\n",
    "         print (\"TypeError:\", ex)\n",
    "            \n",
    "     except ZeroDivisionError as ex:\n",
    "         print (\"ZeroDivisionError:\", ex)\n",
    "            \n",
    "     finally:\n",
    "         print(\"Finished\\n\")\n",
    "                    \n",
    "list1 = [10,20,30,40]                     # No issues\n",
    "list2 = []                                # Blank so zero division as length is 0\n",
    "list3 = [10,20,30,'abc']                  # String so error. \n",
    "\n",
    "average(list1)\n",
    "average(list2)\n",
    "average(list3)"
   ]
  }
 ],
 "metadata": {
  "kernelspec": {
   "display_name": "Python 3",
   "language": "python",
   "name": "python3"
  },
  "language_info": {
   "codemirror_mode": {
    "name": "ipython",
    "version": 3
   },
   "file_extension": ".py",
   "mimetype": "text/x-python",
   "name": "python",
   "nbconvert_exporter": "python",
   "pygments_lexer": "ipython3",
   "version": "3.6.0"
  }
 },
 "nbformat": 4,
 "nbformat_minor": 1
}
